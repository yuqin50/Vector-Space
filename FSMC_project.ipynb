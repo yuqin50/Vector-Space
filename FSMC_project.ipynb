{
 "cells": [
  {
   "cell_type": "markdown",
   "metadata": {},
   "source": [
    "Try to implement the functions and complete lines with \"###\""
   ]
  },
  {
   "cell_type": "code",
   "execution_count": 19,
   "metadata": {
    "ExecuteTime": {
     "end_time": "2018-10-31T02:47:13.347875Z",
     "start_time": "2018-10-31T02:47:13.337918Z"
    }
   },
   "outputs": [],
   "source": [
    "import numpy as np\n",
    "import matplotlib.pyplot as plt\n",
    "#import matplotlib as mpl\n",
    "#mpl.rcParams['text.usetex'] = True\n",
    "#mpl.rcParams['text.latex.preamble'] = [r'\\usepackage{amsfonts}']\n",
    "%matplotlib inline"
   ]
  },
  {
   "cell_type": "markdown",
   "metadata": {},
   "source": [
    "### Exercise 2.1"
   ]
  },
  {
   "cell_type": "markdown",
   "metadata": {},
   "source": [
    "What is the distribution of the number of fair coin tosses before one observes 3 heads in a row? To solve this, consider a 4-state Markov chain with transition probability matrix\n",
    "$$\n",
    "    P = \n",
    "    \\begin{bmatrix}\n",
    "        0.5 & 0.5 & 0 & 0 \\\\\n",
    "        0.5 & 0 & 0.5 & 0 \\\\\n",
    "        0.5 & 0 & 0 & 0.5 \\\\\n",
    "        0 & 0 & 0 & 1\n",
    "    \\end{bmatrix}\n",
    "$$\n",
    "where $ X_t = 1 $ if the previous toss was tails, $ X_t = 2 $ if the last two tosses were tails then heads, $ X_t = 3 $ if the last three tosses were tails then heads twice, and $ X_t = 4 $ is an absorbing state that is reached when the last three tosses are heads. "
   ]
  },
  {
   "cell_type": "markdown",
   "metadata": {},
   "source": [
    "* Write a computer program (e.g., in Python, Matlab, ...) to compute $ \\Pr(T_{1,4} = m) $ for $ m = 1, 2, \\ldots, 100 $ and use this to estimate expected number of tosses $ \\mathbb{E}[T_{1,4}] $. "
   ]
  },
  {
   "cell_type": "code",
   "execution_count": 20,
   "metadata": {
    "ExecuteTime": {
     "end_time": "2018-10-31T02:47:15.450160Z",
     "start_time": "2018-10-31T02:47:15.124988Z"
    },
    "scrolled": false
   },
   "outputs": [
    {
     "name": "stdout",
     "output_type": "stream",
     "text": [
      "13.970568255020405\n"
     ]
    },
    {
     "data": {
      "image/png": "[encoded data removed]",
      "text/plain": [
       "<Figure size 720x432 with 1 Axes>"
      ]
     },
     "metadata": {
      "needs_background": "light"
     },
     "output_type": "display_data"
    }
   ],
   "source": [
    "def compute_Phi_ET(P, ns=100):\n",
    "    '''\n",
    "    Arguments:\n",
    "        P {numpy.array} -- n x n, transition matrix of the Markov chain\n",
    "        ns {int} -- largest step to consider\n",
    "\n",
    "    Returns:\n",
    "        Phi_list {numpy.array} -- (ns + 1) x n x n, the Phi matrix for time 0, 1, ...,ns\n",
    "        ET {numpy.array} -- n x n, expectedd hitting time approxiamated up to step ns\n",
    "    '''\n",
    "    # Try to compute following quantities:\n",
    "    # Phi_list[m, i, j] = phi_{i,j}^{(m)} = Pr( T_{i, j} <= m )\n",
    "    # ET[i, j] = E[ T_{i, j} ] ~ \\sum_{m=1}^ns m Pr( T_{i, j} = m )\n",
    "    # Notice in python the index starts from 0\n",
    "    n = len(P)\n",
    "    Phi_list = np.zeros((ns+1,n,n))\n",
    "    Phi_list[0] = np.identity(n)\n",
    "    Phi = np.zeros((ns+1,n,n))\n",
    "    for m in range (1,ns+1):\n",
    "        Phi_list[m] = np.dot(Phi_list[m-1],P)#calculate Pr( T_{i, j} <= m )\n",
    "        Phi[m] = Phi_list[m] - Phi_list[m-1]\n",
    "    ET = np.zeros((n,n))\n",
    "    for m in range (1,ns+1):\n",
    "        ET += m * Phi[m]\n",
    "    return Phi_list, ET\n",
    "    \n",
    "P = np.array([[0.5, 0.5, 0, 0], [0.5, 0, 0.5, 0], [0.5, 0, 0, 0.5], [0, 0, 0, 1]])  \n",
    "Phi_list, ET = compute_Phi_ET(P, 100)\n",
    "\n",
    "m = range (1,101) ### steps to be plotted\n",
    "Pr = []\n",
    "for i in m:\n",
    "    Pr.append(Phi_list[i][0][3])\n",
    " #Pr= ### \\Pr(T_{1,4} = m) for all m\n",
    "E = ET[0][3]### \\mathbb{E}[T_{1,4}]\n",
    "print(E)\n",
    "\n",
    "plt.figure(figsize=(10, 6))\n",
    "plt.stem(m, Pr)\n",
    "plt.xlabel(r'$ m $')\n",
    "plt.ylabel(r'$ \\Pr(T_{1,4}=m) $')\n",
    "plt.title(r'$ \\mathbb{E}[T_{1,4}] = ' + str(E) + ' $');"
   ]
  },
  {
   "cell_type": "markdown",
   "metadata": {},
   "source": [
    "* Write a computer program that generates 500 realizations from this Markov chain and uses them to plots a histogram of $ T_{1,4} $."
   ]
  },
  {
   "cell_type": "code",
   "execution_count": 21,
   "metadata": {
    "ExecuteTime": {
     "end_time": "2018-10-31T02:47:19.256918Z",
     "start_time": "2018-10-31T02:47:19.042453Z"
    }
   },
   "outputs": [
    {
     "data": {
      "image/png": "[encoded data removed]",
      "text/plain": [
       "<Figure size 720x432 with 1 Axes>"
      ]
     },
     "metadata": {
      "needs_background": "light"
     },
     "output_type": "display_data"
    }
   ],
   "source": [
    "def simulate_hitting_time(P, states, nr):\n",
    "    '''\n",
    "    Arguments:\n",
    "        P {numpy.array} -- n x n, transition matrix of the Markov chain\n",
    "        states {list[int]} -- the list [start state, end state], index starts from 0\n",
    "        nr {int} -- largest step to consider\n",
    "\n",
    "    Returns:\n",
    "        T {list[int]} -- a size nr list contains the hitting time of all realizations\n",
    "    '''\n",
    "    start, end = states\n",
    "    if start == end: return [0] * nr\n",
    "    # Try to simulate following quantities:\n",
    "    # T[i] = hitting time of the i-th realization\n",
    "    # Notice in python the index starts from 0\n",
    "    T=[]\n",
    "    n=len(P)\n",
    "    sumPr=np.zeros((n,n))\n",
    "    for i in range(0,n):\n",
    "        sumPr[i][0]=P[i][0]\n",
    "        for j in range(1,n):\n",
    "            sumPr[i][j]=P[i][j]+sumPr[i][j-1] # counting P(i,j) sums of P[n x n]  \n",
    "    k=1\n",
    "    while k<=nr:#500 loop\n",
    "        count=0        \n",
    "        current=start\n",
    "        while current!=end:# one relization loop\n",
    "            u=np.random.rand()\n",
    "            count+=1\n",
    "            index=np.where(sumPr[current]>u) # find the index of the first number which is bigger than u\n",
    "            current=index[0][0]\n",
    "        T.append(count)\n",
    "        k=k+1\n",
    "    return T\n",
    "     \n",
    "T = simulate_hitting_time(P, [0, 3], 500)\n",
    "plt.figure(figsize=(10, 6))\n",
    "plt.hist(T, bins=np.arange(max(T))-0.5)\n",
    "plt.title(r'mean of $ T_{1,4} = ~ $' + str(np.mean(T)));"
   ]
  },
  {
   "cell_type": "markdown",
   "metadata": {},
   "source": [
    "### Exercise 2.2"
   ]
  },
  {
   "cell_type": "markdown",
   "metadata": {},
   "source": [
    "Consider the miniature chutes and ladders game shown in Figure 1. \n",
    "Assume a player starts on the space labeled 1 and plays by rolling a fair four-sided die and then moves that number of spaces. \n",
    "If a player lands on the bottom of a ladder, then they automatically climb to the top. \n",
    "If a player lands at the top of a slide, then they automatically slide to the bottom. \n",
    "This process can be modeled by a Markov chain with $ n = 16 $ states where each state is associated with a square where players can start their turn (e.g., players never start at the bottom of a ladder or the top of a slide). \n",
    "To finish the game, players must land exactly on space 20 (moves beyond this are not taken). "
   ]
  },
  {
   "cell_type": "markdown",
   "metadata": {
    "deletable": false,
    "editable": false,
    "run_control": {
     "frozen": true
    }
   },
   "source": [
    "* Compute the transition probability matrix $ P $ of the implied Markov chain. "
   ]
  },
  {
   "cell_type": "code",
   "execution_count": 22,
   "metadata": {
    "ExecuteTime": {
     "end_time": "2018-10-31T02:47:22.236674Z",
     "start_time": "2018-10-31T02:47:21.978366Z"
    }
   },
   "outputs": [
    {
     "data": {
      "text/plain": [
       "<matplotlib.image.AxesImage at 0x219b42f2550>"
      ]
     },
     "execution_count": 22,
     "metadata": {},
     "output_type": "execute_result"
    },
    {
     "data": {
      "image/png": "[encoded data removed]",
      "text/plain": [
       "<Figure size 576x576 with 1 Axes>"
      ]
     },
     "metadata": {
      "needs_background": "light"
     },
     "output_type": "display_data"
    }
   ],
   "source": [
    "def construct_P_matrix(n, dice, chutes, ladders):\n",
    "    '''\n",
    "    Arguments:\n",
    "        n {int} -- size of the state space\n",
    "        dice {numpy.array} -- probability distribution of the dice outcome\n",
    "        chutes {list[(int, int)]} -- the list of chutes, in pairs of (start, end)\n",
    "        ladders {list[(int, int)]} -- the list of ladders, in pairs of (start, end)\n",
    "\n",
    "    Returns:\n",
    "        P {numpy.array} -- n x n, transition matrix of the Markov chain\n",
    "    '''\n",
    "    # Construct the transition matrix of the chutes & ladders game\n",
    "    P1=([\n",
    "        [0,0.25,0.25,0.25,0,0,0.25,0,0,0,0,0,0,0,0,0],\n",
    "        [0,0,0.25,0.25,0.25,0,0.25,0,0,0,0,0,0,0,0,0],\n",
    "        [0,0,0,0.25,0.25,0.25,0.25,0,0,0,0,0,0,0,0,0],\n",
    "        [0,0,0,0,0.25,0.25,0.25,0.25,0,0,0,0,0,0,0,0],\n",
    "        [0,0,0,0,0,0.25,0.25,0.25,0.25,0,0,0,0,0,0,0],\n",
    "        [0,0,0,0,0,0,0.25,0.25,0.25,0.25,0,0,0,0,0,0],\n",
    "        [0,0,0,0,0,0,0,0.25,0.25,0.25,0.25,0,0,0,0,0],\n",
    "        [0,0.25,0,0,0,0,0,0,0.25,0.25,0.25,0,0,0,0,0],\n",
    "        [0,0.25,0,0,0,0,0,0,0,0.25,0.25,0,0,0,0.25,0],\n",
    "        [0,0.25,0,0,0,0,0,0,0,0,0.25,0.25,0,0,0.25,0],\n",
    "        [0,0.25,0,0,0,0,0,0,0,0,0,0.25,0.25,0,0.25,0],\n",
    "        [0,0,0,0,0.25,0,0,0,0,0,0,0,0.25,0.25,0.25,0],\n",
    "        [0,0,0,0,0.25,0,0,0,0,0,0,0,0,0.25,0.25,0.25],\n",
    "        [0,0,0,0,0,0,0,0,0,0,0,0,0,0,0.25,0.75],\n",
    "        [0,0,0,0,0,0,0,0,0,0,0,0,0,0,0,1],\n",
    "        [0,0,0,0,0,0,0,0,0,0,0,0,0,0,0,1]\n",
    "    ])\n",
    "    return P1\n",
    "\n",
    "n = 16### number of states\n",
    "dice =([0.25,0.25,0.25,0.25]) ### probability distribution of dice\n",
    "chutes = [(13,2),(17,6)]### (sorce, destination) pairs of chutes\n",
    "ladders = [(4,8),(14,19)]### (sorce, destination) pairs of ladders\n",
    "\n",
    "P1 = construct_P_matrix(n, dice, chutes, ladders)\n",
    "plt.figure(figsize=(8, 8))\n",
    "plt.imshow(P1)"
   ]
  },
  {
   "cell_type": "markdown",
   "metadata": {},
   "source": [
    "* For this Markov chain, write a computer program (e.g., in Python, Matlab, ...) to compute the cumulative distribution of the number turns a player takes to finish (i.e., the probability $ \\Pr(T_{1, 20} \\le m) $ where $ T_{1, 20} $ is the hitting time from state 1 to state 20).\n"
   ]
  },
  {
   "cell_type": "code",
   "execution_count": 23,
   "metadata": {
    "ExecuteTime": {
     "end_time": "2018-10-31T02:47:25.838168Z",
     "start_time": "2018-10-31T02:47:25.674658Z"
    }
   },
   "outputs": [
    {
     "data": {
      "image/png": "[encoded data removed]",
      "text/plain": [
       "<Figure size 720x432 with 1 Axes>"
      ]
     },
     "metadata": {
      "needs_background": "light"
     },
     "output_type": "display_data"
    }
   ],
   "source": [
    "Phi_list1, ET1 = compute_Phi_ET(P1, ns=100)\n",
    "\n",
    "m = range(1,101)### steps to be plotted\n",
    "Pr1 = []### \\Pr(T_{1,20} <= m) for all m\n",
    "for i in m:\n",
    "    Pr1.append(Phi_list1[i][0][15])\n",
    "E = ET1[0][15]### \\mathbb{E}[T_{1,20}]\n",
    "\n",
    "plt.figure(figsize=(10, 6))\n",
    "plt.plot(m ,Pr1)\n",
    "plt.xlabel(r'$ m $')\n",
    "plt.ylabel(r'$ \\Pr(T_{1,20}=m) $')\n",
    "plt.title(r'$ \\mathbb{E}[T_{1,20}] = ' + str(E) + ' $');"
   ]
  },
  {
   "cell_type": "markdown",
   "metadata": {},
   "source": [
    "* Write a computer program that generates 500 realizations from this Markov chain and uses them to plot a histogram of $ T_{1, 20} $.\n"
   ]
  },
  {
   "cell_type": "code",
   "execution_count": 24,
   "metadata": {
    "ExecuteTime": {
     "end_time": "2018-10-31T02:47:28.532442Z",
     "start_time": "2018-10-31T02:47:28.341954Z"
    }
   },
   "outputs": [
    {
     "data": {
      "image/png": "[encoded data removed]",
      "text/plain": [
       "<Figure size 720x432 with 1 Axes>"
      ]
     },
     "metadata": {
      "needs_background": "light"
     },
     "output_type": "display_data"
    }
   ],
   "source": [
    "T = simulate_hitting_time(P1, [0, 15], 500)\n",
    "plt.figure(figsize=(10, 6))\n",
    "plt.hist(T, bins=np.arange(max(T))-0.5)\n",
    "plt.title(r'mean of $ T_{1,20} = ~ $' + str(np.mean(T)));"
   ]
  },
  {
   "cell_type": "markdown",
   "metadata": {},
   "source": [
    "* Optional Challenge: If the ﬁrst player rolls 4 and climbs the ladder to square 8, then what is the probability that the second player will win."
   ]
  },
  {
   "cell_type": "code",
   "execution_count": null,
   "metadata": {
    "ExecuteTime": {
     "end_time": "2018-10-21T20:14:10.930664Z",
     "start_time": "2018-10-21T20:14:10.925316Z"
    }
   },
   "outputs": [],
   "source": [
    "Pr_win = 0\n",
    "### compute Pr_win\n",
    "Pr_win"
   ]
  },
  {
   "cell_type": "markdown",
   "metadata": {},
   "source": [
    "### Exercise 2.3"
   ]
  },
  {
   "cell_type": "markdown",
   "metadata": {},
   "source": [
    "In a certain city, it is said that the weather is rainy with a 90% probability if it was rainy the previous day and with a 50% probability if it not rainy the previous day. \n",
    "If we assume that only the previous day’s weather matters, then we can model the weather of this city by a Markov chain with $ n = 2 $ states whose transitions are governed by\n",
    "$$\n",
    "    P = \n",
    "    \\begin{bmatrix}\n",
    "        0.9 & 0.1 \\\\\n",
    "        0.5 & 0.5\n",
    "    \\end{bmatrix}\n",
    "$$\n",
    "Under this model, what is the steady-state probability of rainy weather?\n"
   ]
  },
  {
   "cell_type": "code",
   "execution_count": 25,
   "metadata": {
    "ExecuteTime": {
     "end_time": "2018-10-31T02:47:31.593752Z",
     "start_time": "2018-10-31T02:47:31.582820Z"
    }
   },
   "outputs": [
    {
     "data": {
      "text/plain": [
       "array([0.83333333, 0.16666667])"
      ]
     },
     "execution_count": 25,
     "metadata": {},
     "output_type": "execute_result"
    }
   ],
   "source": [
    "def stationary_distribution(P):\n",
    "    '''\n",
    "    Arguments:\n",
    "        P {numpy.array} -- n x n, transition matrix of the Markov chain\n",
    "\n",
    "    Returns:\n",
    "        pi {numpy.array} -- length n, stationary distribution of the Markov chain\n",
    "    '''\n",
    "    # Think pi as column vector, solve linear equations:\n",
    "    #     P^T pi = pi\n",
    "    #     sum(pi) = 1\n",
    "    n=len(P)\n",
    "    I=np.identity(n)\n",
    "    trP=np.zeros((n))\n",
    "    trP=(P-I)\n",
    "    I1=np.ones(n)\n",
    "    trP=np.c_[trP,I1]\n",
    "    orth=np.dot(trP,trP.T)# orthogonality to solve linear equation\n",
    "    x = np.linalg.solve(orth, I1)\n",
    "    pi=x\n",
    "    return pi\n",
    "\n",
    "P = np.array([[0.9, 0.1], [0.5, 0.5]])\n",
    "stationary_distribution(P)"
   ]
  },
  {
   "cell_type": "markdown",
   "metadata": {},
   "source": [
    "### Exercise 2.4"
   ]
  },
  {
   "cell_type": "markdown",
   "metadata": {},
   "source": [
    "Consider a game where the gameboard has 8 diﬀerent spaces arranged in a circle. \n",
    "During each turn, a player rolls two 4-sided dice and moves clockwise by a number of spaces equal to their sum. \n",
    "Deﬁne the transition matrix for this 8-state Markov chain and compute its stationary probability distribution."
   ]
  },
  {
   "cell_type": "code",
   "execution_count": 26,
   "metadata": {
    "ExecuteTime": {
     "end_time": "2018-10-31T02:47:35.492609Z",
     "start_time": "2018-10-31T02:47:35.478650Z"
    }
   },
   "outputs": [
    {
     "name": "stdout",
     "output_type": "stream",
     "text": [
      "[[0.0625, 0, 0.0625, 0.125, 0.2, 0.25, 0.2, 0.125], [0.125, 0.0625, 0, 0.0625, 0.125, 0.2, 0.25, 0.2], [0.2, 0.125, 0.0625, 0, 0.0625, 0.125, 0.2, 0.25], [0.25, 0.2, 0.125, 0.0625, 0, 0.0625, 0.125, 0.2], [0.2, 0.25, 0.2, 0.125, 0.0625, 0, 0.0625, 0.125], [0.125, 0.2, 0.25, 0.2, 0.125, 0.0625, 0, 0.0625], [0.0625, 0.125, 0.2, 0.25, 0.2, 0.125, 0.0625, 0], [0, 0.0625, 0.125, 0.2, 0.25, 0.2, 0.125, 0.0625]]\n"
     ]
    },
    {
     "data": {
      "text/plain": [
       "array([0.12499024, 0.12499024, 0.12499024, 0.12499024, 0.12499024,\n",
       "       0.12499024, 0.12499024, 0.12499024])"
      ]
     },
     "execution_count": 26,
     "metadata": {},
     "output_type": "execute_result"
    }
   ],
   "source": [
    "P = ([                                  ### construct the transition matrix\n",
    "    [1/16,0,1/16,1/8,1/5,1/4,1/5,1/8], \n",
    "    [1/8,1/16,0,1/16,1/8,1/5,1/4,1/5],\n",
    "    [1/5,1/8,1/16,0,1/16,1/8,1/5,1/4],\n",
    "    [1/4,1/5,1/8,1/16,0,1/16,1/8,1/5],\n",
    "    [1/5,1/4,1/5,1/8,1/16,0,1/16,1/8],\n",
    "    [1/8,1/5,1/4,1/5,1/8,1/16,0,1/16],\n",
    "    [1/16,1/8,1/5,1/4,1/5,1/8,1/16,0],\n",
    "    [0,1/16,1/8,1/5,1/4,1/5,1/8,1/16]])\n",
    "    \n",
    "print(P)\n",
    "stationary_distribution(P)"
   ]
  },
  {
   "cell_type": "markdown",
   "metadata": {},
   "source": [
    "Next, suppose that one space is special (e.g., state-1 of the Markov chain) and a player can only leave this space by rolling doubles (i.e., when both dice show the same value). Again, the player moves clockwise by a number of spaces equal to their sum. Deﬁne the transition matrix for this 8-state Markov chain and compute its stationary probability distribution."
   ]
  },
  {
   "cell_type": "code",
   "execution_count": 32,
   "metadata": {
    "ExecuteTime": {
     "end_time": "2018-10-31T02:52:08.406157Z",
     "start_time": "2018-10-31T02:52:08.396220Z"
    }
   },
   "outputs": [
    {
     "name": "stdout",
     "output_type": "stream",
     "text": [
      "[[0.8125, 0, 0.0625, 0, 0.0625, 0, 0.0625, 0], [0.125, 0.0625, 0, 0.0625, 0.125, 0.2, 0.25, 0.2], [0.2, 0.125, 0.0625, 0, 0.0625, 0.125, 0.2, 0.25], [0.25, 0.2, 0.125, 0.0625, 0, 0.0625, 0.125, 0.2], [0.2, 0.25, 0.2, 0.125, 0.0625, 0, 0.0625, 0.125], [0.125, 0.2, 0.25, 0.2, 0.125, 0.0625, 0, 0.0625], [0.0625, 0.125, 0.2, 0.25, 0.2, 0.125, 0.0625, 0], [0, 0.0625, 0.125, 0.2, 0.25, 0.2, 0.125, 0.0625]]\n"
     ]
    },
    {
     "data": {
      "text/plain": [
       "array([0.42066071, 0.08230743, 0.10209528, 0.07045945, 0.09236178,\n",
       "       0.06248082, 0.0952795 , 0.07432879])"
      ]
     },
     "execution_count": 32,
     "metadata": {},
     "output_type": "execute_result"
    }
   ],
   "source": [
    "P = ([ \n",
    "    [13/16,0,1/16,0,1/16,0,1/16,0], \n",
    "    [1/8,1/16,0,1/16,1/8,1/5,1/4,1/5],\n",
    "    [1/5,1/8,1/16,0,1/16,1/8,1/5,1/4],\n",
    "    [1/4,1/5,1/8,1/16,0,1/16,1/8,1/5],\n",
    "    [1/5,1/4,1/5,1/8,1/16,0,1/16,1/8],\n",
    "    [1/8,1/5,1/4,1/5,1/8,1/16,0,1/16],\n",
    "    [1/16,1/8,1/5,1/4,1/5,1/8,1/16,0],\n",
    "    [0,1/16,1/8,1/5,1/4,1/5,1/8,1/16]])### construct the transition matrix\n",
    "print(P)\n",
    "stationary_distribution(P)"
   ]
  },
  {
   "cell_type": "code",
   "execution_count": null,
   "metadata": {},
   "outputs": [],
   "source": []
  }
 ],
 "metadata": {
  "hide_input": false,
  "kernelspec": {
   "display_name": "Python 3",
   "language": "python",
   "name": "python3"
  },
  "language_info": {
   "codemirror_mode": {
    "name": "ipython",
    "version": 3
   },
   "file_extension": ".py",
   "mimetype": "text/x-python",
   "name": "python",
   "nbconvert_exporter": "python",
   "pygments_lexer": "ipython3",
   "version": "3.7.0"
  },
  "varInspector": {
   "cols": {
    "lenName": 16,
    "lenType": 16,
    "lenVar": 40
   },
   "kernels_config": {
    "python": {
     "delete_cmd_postfix": "",
     "delete_cmd_prefix": "del ",
     "library": "var_list.py",
     "varRefreshCmd": "print(var_dic_list())"
    },
    "r": {
     "delete_cmd_postfix": ") ",
     "delete_cmd_prefix": "rm(",
     "library": "var_list.r",
     "varRefreshCmd": "cat(var_dic_list()) "
    }
   },
   "types_to_exclude": [
    "module",
    "function",
    "builtin_function_or_method",
    "instance",
    "_Feature"
   ],
   "window_display": false
  }
 },
 "nbformat": 4,
 "nbformat_minor": 2
}
